{
  "nbformat": 4,
  "nbformat_minor": 0,
  "metadata": {
    "colab": {
      "provenance": []
    },
    "kernelspec": {
      "name": "python3",
      "display_name": "Python 3"
    },
    "language_info": {
      "name": "python"
    },
    "accelerator": "GPU"
  },
  "cells": [
    {
      "cell_type": "code",
      "metadata": {
        "colab": {
          "base_uri": "https://localhost:8080/",
          "height": 643
        },
        "id": "8-QGN1j4Dhlm",
        "outputId": "dd478af8-e835-4509-bbf6-093e1722f3c3"
      },
      "source": [
        "! pip install clean-fid"
      ],
      "execution_count": 1,
      "outputs": [
        {
          "output_type": "stream",
          "name": "stdout",
          "text": [
            "Looking in indexes: https://pypi.org/simple, https://us-python.pkg.dev/colab-wheels/public/simple/\n",
            "Collecting clean-fid\n",
            "  Downloading clean_fid-0.1.34-py3-none-any.whl (26 kB)\n",
            "Collecting requests==2.25.1\n",
            "  Downloading requests-2.25.1-py2.py3-none-any.whl (61 kB)\n",
            "\u001b[K     |████████████████████████████████| 61 kB 3.5 MB/s \n",
            "\u001b[?25hRequirement already satisfied: tqdm>=4.28.1 in /usr/local/lib/python3.8/dist-packages (from clean-fid) (4.64.1)\n",
            "Requirement already satisfied: torchvision in /usr/local/lib/python3.8/dist-packages (from clean-fid) (0.14.0+cu116)\n",
            "Requirement already satisfied: torch in /usr/local/lib/python3.8/dist-packages (from clean-fid) (1.13.0+cu116)\n",
            "Collecting pillow>=8.1\n",
            "  Downloading Pillow-9.3.0-cp38-cp38-manylinux_2_17_x86_64.manylinux2014_x86_64.whl (3.2 MB)\n",
            "\u001b[K     |████████████████████████████████| 3.2 MB 16.9 MB/s \n",
            "\u001b[?25hRequirement already satisfied: numpy>=1.14.3 in /usr/local/lib/python3.8/dist-packages (from clean-fid) (1.21.6)\n",
            "Requirement already satisfied: scipy>=1.0.1 in /usr/local/lib/python3.8/dist-packages (from clean-fid) (1.7.3)\n",
            "Requirement already satisfied: idna<3,>=2.5 in /usr/local/lib/python3.8/dist-packages (from requests==2.25.1->clean-fid) (2.10)\n",
            "Requirement already satisfied: urllib3<1.27,>=1.21.1 in /usr/local/lib/python3.8/dist-packages (from requests==2.25.1->clean-fid) (1.24.3)\n",
            "Requirement already satisfied: certifi>=2017.4.17 in /usr/local/lib/python3.8/dist-packages (from requests==2.25.1->clean-fid) (2022.9.24)\n",
            "Requirement already satisfied: chardet<5,>=3.0.2 in /usr/local/lib/python3.8/dist-packages (from requests==2.25.1->clean-fid) (3.0.4)\n",
            "Requirement already satisfied: typing-extensions in /usr/local/lib/python3.8/dist-packages (from torch->clean-fid) (4.4.0)\n",
            "Installing collected packages: requests, pillow, clean-fid\n",
            "  Attempting uninstall: requests\n",
            "    Found existing installation: requests 2.23.0\n",
            "    Uninstalling requests-2.23.0:\n",
            "      Successfully uninstalled requests-2.23.0\n",
            "  Attempting uninstall: pillow\n",
            "    Found existing installation: Pillow 7.1.2\n",
            "    Uninstalling Pillow-7.1.2:\n",
            "      Successfully uninstalled Pillow-7.1.2\n",
            "Successfully installed clean-fid-0.1.34 pillow-9.3.0 requests-2.25.1\n"
          ]
        },
        {
          "output_type": "display_data",
          "data": {
            "application/vnd.colab-display-data+json": {
              "pip_warning": {
                "packages": [
                  "PIL"
                ]
              }
            }
          },
          "metadata": {}
        }
      ]
    },
    {
      "cell_type": "markdown",
      "metadata": {
        "id": "BkzqcEm_ELap"
      },
      "source": [
        "## Download sample real and fake images"
      ]
    },
    {
      "cell_type": "code",
      "source": [
        "! mkdir original\n",
        "! mkdir predictions"
      ],
      "metadata": {
        "id": "IpYtS9KP1S-J",
        "colab": {
          "base_uri": "https://localhost:8080/"
        },
        "outputId": "f0cbb22b-5034-4c71-f494-1bfb3955a302"
      },
      "execution_count": 1,
      "outputs": [
        {
          "output_type": "stream",
          "name": "stdout",
          "text": [
            "mkdir: cannot create directory ‘original’: File exists\n",
            "mkdir: cannot create directory ‘predictions’: File exists\n"
          ]
        }
      ]
    },
    {
      "cell_type": "markdown",
      "metadata": {
        "id": "IUQIuifDET4N"
      },
      "source": [
        "## Compute the FID score"
      ]
    },
    {
      "cell_type": "code",
      "metadata": {
        "id": "yQkzOpXUDbxt"
      },
      "source": [
        "import numpy as np\n",
        "import cv2\n",
        "from cleanfid import fid"
      ],
      "execution_count": 2,
      "outputs": []
    },
    {
      "cell_type": "code",
      "metadata": {
        "colab": {
          "base_uri": "https://localhost:8080/"
        },
        "id": "UP9enSwWEGyR",
        "outputId": "8c5a43ae-b2ed-4b83-8c3c-625aedc7c86f"
      },
      "source": [
        "score_clean = fid.compute_fid(\"original\", \"predictions\", mode=\"clean\", num_workers=0)\n",
        "print(f\"clean-fid score is {score_clean:.3f}\")"
      ],
      "execution_count": 3,
      "outputs": [
        {
          "output_type": "stream",
          "name": "stdout",
          "text": [
            "compute FID between two folders\n",
            "Found 240 images in the folder original\n"
          ]
        },
        {
          "output_type": "stream",
          "name": "stderr",
          "text": [
            "FID original : 100%|██████████| 8/8 [00:15<00:00,  1.89s/it]\n"
          ]
        },
        {
          "output_type": "stream",
          "name": "stdout",
          "text": [
            "Found 240 images in the folder predictions\n"
          ]
        },
        {
          "output_type": "stream",
          "name": "stderr",
          "text": [
            "FID predictions : 100%|██████████| 8/8 [00:02<00:00,  3.63it/s]\n"
          ]
        },
        {
          "output_type": "stream",
          "name": "stdout",
          "text": [
            "clean-fid score is 146.892\n"
          ]
        }
      ]
    },
    {
      "cell_type": "code",
      "metadata": {
        "colab": {
          "base_uri": "https://localhost:8080/"
        },
        "id": "rInjKJK6Ei4F",
        "outputId": "85c7aec9-e66a-4a98-9fd8-ec5877f1db4a"
      },
      "source": [
        "\n",
        "score_tf = fid.compute_fid(\"original\", \"predictions\", mode=\"legacy_tensorflow\", num_workers=0)\n",
        "print(f\"legacy-tensorflow-fid score is {score_tf:.3f}\")"
      ],
      "execution_count": 4,
      "outputs": [
        {
          "output_type": "stream",
          "name": "stdout",
          "text": [
            "compute FID between two folders\n",
            "Found 240 images in the folder original\n"
          ]
        },
        {
          "output_type": "stream",
          "name": "stderr",
          "text": [
            "FID original : 100%|██████████| 8/8 [00:02<00:00,  3.64it/s]\n"
          ]
        },
        {
          "output_type": "stream",
          "name": "stdout",
          "text": [
            "Found 240 images in the folder predictions\n"
          ]
        },
        {
          "output_type": "stream",
          "name": "stderr",
          "text": [
            "FID predictions : 100%|██████████| 8/8 [00:01<00:00,  6.35it/s]\n"
          ]
        },
        {
          "output_type": "stream",
          "name": "stdout",
          "text": [
            "legacy-tensorflow-fid score is 148.267\n"
          ]
        }
      ]
    },
    {
      "cell_type": "code",
      "metadata": {
        "id": "Aqy_Nu8hFUBt"
      },
      "source": [],
      "execution_count": null,
      "outputs": []
    }
  ]
}
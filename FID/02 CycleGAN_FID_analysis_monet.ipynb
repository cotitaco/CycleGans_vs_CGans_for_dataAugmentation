{
  "nbformat": 4,
  "nbformat_minor": 0,
  "metadata": {
    "colab": {
      "provenance": []
    },
    "kernelspec": {
      "name": "python3",
      "display_name": "Python 3"
    },
    "language_info": {
      "name": "python"
    },
    "accelerator": "GPU"
  },
  "cells": [
    {
      "cell_type": "code",
      "metadata": {
        "colab": {
          "base_uri": "https://localhost:8080/"
        },
        "id": "8-QGN1j4Dhlm",
        "outputId": "4e958ec0-8a1e-4caa-bbd0-cbc4df107132"
      },
      "source": [
        "! pip install clean-fid"
      ],
      "execution_count": null,
      "outputs": [
        {
          "output_type": "stream",
          "name": "stdout",
          "text": [
            "Looking in indexes: https://pypi.org/simple, https://us-python.pkg.dev/colab-wheels/public/simple/\n",
            "Requirement already satisfied: clean-fid in /usr/local/lib/python3.8/dist-packages (0.1.34)\n",
            "Requirement already satisfied: torch in /usr/local/lib/python3.8/dist-packages (from clean-fid) (1.12.1+cu113)\n",
            "Requirement already satisfied: numpy>=1.14.3 in /usr/local/lib/python3.8/dist-packages (from clean-fid) (1.21.6)\n",
            "Requirement already satisfied: torchvision in /usr/local/lib/python3.8/dist-packages (from clean-fid) (0.13.1+cu113)\n",
            "Requirement already satisfied: pillow>=8.1 in /usr/local/lib/python3.8/dist-packages (from clean-fid) (9.3.0)\n",
            "Requirement already satisfied: requests==2.25.1 in /usr/local/lib/python3.8/dist-packages (from clean-fid) (2.25.1)\n",
            "Requirement already satisfied: scipy>=1.0.1 in /usr/local/lib/python3.8/dist-packages (from clean-fid) (1.7.3)\n",
            "Requirement already satisfied: tqdm>=4.28.1 in /usr/local/lib/python3.8/dist-packages (from clean-fid) (4.64.1)\n",
            "Requirement already satisfied: idna<3,>=2.5 in /usr/local/lib/python3.8/dist-packages (from requests==2.25.1->clean-fid) (2.10)\n",
            "Requirement already satisfied: urllib3<1.27,>=1.21.1 in /usr/local/lib/python3.8/dist-packages (from requests==2.25.1->clean-fid) (1.24.3)\n",
            "Requirement already satisfied: certifi>=2017.4.17 in /usr/local/lib/python3.8/dist-packages (from requests==2.25.1->clean-fid) (2022.9.24)\n",
            "Requirement already satisfied: chardet<5,>=3.0.2 in /usr/local/lib/python3.8/dist-packages (from requests==2.25.1->clean-fid) (3.0.4)\n",
            "Requirement already satisfied: typing-extensions in /usr/local/lib/python3.8/dist-packages (from torch->clean-fid) (4.1.1)\n"
          ]
        }
      ]
    },
    {
      "cell_type": "markdown",
      "metadata": {
        "id": "BkzqcEm_ELap"
      },
      "source": [
        "## Download sample real and fake images"
      ]
    },
    {
      "cell_type": "code",
      "source": [
        "! mkdir original\n",
        "! mkdir predictions"
      ],
      "metadata": {
        "id": "IpYtS9KP1S-J"
      },
      "execution_count": null,
      "outputs": []
    },
    {
      "cell_type": "markdown",
      "metadata": {
        "id": "IUQIuifDET4N"
      },
      "source": [
        "## Compute the FID score"
      ]
    },
    {
      "cell_type": "markdown",
      "source": [
        "original = \"C:/Users/cotit/OneDrive/Documentos/Academicos/Master/Ottawa University Masters/Courses/03Fall 2022/01 Advanced Machine Learning/Project/cycleGAN/02 sketch2monet/Predictions Sketch2Monet CycleGAN/Predictions CycleGAN 20 Epochs\"\n",
        "\n",
        "predictions = C:\\Users\\cotit\\Desktop\\cycleGAN Step1 prediction\n"
      ],
      "metadata": {
        "id": "GuOZOFM1fErK"
      }
    },
    {
      "cell_type": "code",
      "metadata": {
        "id": "yQkzOpXUDbxt"
      },
      "source": [
        "import numpy as np\n",
        "import cv2\n",
        "from cleanfid import fid"
      ],
      "execution_count": null,
      "outputs": []
    },
    {
      "cell_type": "code",
      "metadata": {
        "colab": {
          "base_uri": "https://localhost:8080/"
        },
        "id": "UP9enSwWEGyR",
        "outputId": "c95bf193-fd04-4802-8787-bde482f2c010"
      },
      "source": [
        "score_clean = fid.compute_fid(\"original\", \"predictions\", mode=\"clean\", num_workers=0)\n",
        "print(f\"clean-fid score is {score_clean:.3f}\")"
      ],
      "execution_count": null,
      "outputs": [
        {
          "output_type": "stream",
          "name": "stdout",
          "text": [
            "compute FID between two folders\n",
            "Found 121 images in the folder original\n"
          ]
        },
        {
          "output_type": "stream",
          "name": "stderr",
          "text": [
            "FID original : 100%|██████████| 4/4 [00:12<00:00,  3.10s/it]\n"
          ]
        },
        {
          "output_type": "stream",
          "name": "stdout",
          "text": [
            "Found 121 images in the folder predictions\n"
          ]
        },
        {
          "output_type": "stream",
          "name": "stderr",
          "text": [
            "FID predictions : 100%|██████████| 4/4 [00:01<00:00,  3.44it/s]\n"
          ]
        },
        {
          "output_type": "stream",
          "name": "stdout",
          "text": [
            "clean-fid score is 220.340\n"
          ]
        }
      ]
    },
    {
      "cell_type": "code",
      "metadata": {
        "colab": {
          "base_uri": "https://localhost:8080/"
        },
        "id": "rInjKJK6Ei4F",
        "outputId": "57eb98e6-11ac-42f6-890d-91b509da122f"
      },
      "source": [
        "\n",
        "score_tf = fid.compute_fid(\"original\", \"predictions\", mode=\"legacy_tensorflow\", num_workers=0)\n",
        "print(f\"legacy-tensorflow-fid score is {score_tf:.3f}\")"
      ],
      "execution_count": null,
      "outputs": [
        {
          "output_type": "stream",
          "name": "stdout",
          "text": [
            "compute FID between two folders\n",
            "Found 121 images in the folder original\n"
          ]
        },
        {
          "output_type": "stream",
          "name": "stderr",
          "text": [
            "FID original : 100%|██████████| 4/4 [00:01<00:00,  2.11it/s]\n"
          ]
        },
        {
          "output_type": "stream",
          "name": "stdout",
          "text": [
            "Found 121 images in the folder predictions\n"
          ]
        },
        {
          "output_type": "stream",
          "name": "stderr",
          "text": [
            "FID predictions : 100%|██████████| 4/4 [00:00<00:00,  5.98it/s]\n"
          ]
        },
        {
          "output_type": "stream",
          "name": "stdout",
          "text": [
            "legacy-tensorflow-fid score is 215.537\n"
          ]
        }
      ]
    },
    {
      "cell_type": "code",
      "metadata": {
        "id": "Aqy_Nu8hFUBt"
      },
      "source": [],
      "execution_count": null,
      "outputs": []
    }
  ]
}
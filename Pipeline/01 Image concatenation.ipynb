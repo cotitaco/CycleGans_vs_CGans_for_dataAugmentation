{
 "cells": [
  {
   "cell_type": "code",
   "execution_count": 1,
   "id": "26cc8dc6",
   "metadata": {},
   "outputs": [],
   "source": [
    "from PIL import Image\n",
    "import matplotlib.pyplot as plt\n",
    "import os"
   ]
  },
  {
   "cell_type": "markdown",
   "id": "498504f0",
   "metadata": {},
   "source": [
    "#### Convert jpeg to jpg"
   ]
  },
  {
   "cell_type": "code",
   "execution_count": null,
   "id": "6ed9c28d",
   "metadata": {},
   "outputs": [],
   "source": [
    "# Folder Path\n",
    "path = \"Monet_Sketch_Dataset/TrainA\"\n",
    "#os.chdir(path)\n",
    "\n",
    "for file in os.listdir():\n",
    "    print(file)\n",
    "    x = file.split('.')\n",
    "    x1 = x[0] + '.jpg'\n",
    "    im = Image.open(file)\n",
    "    im.save(f'D:/Temp_Monet/{x1}')"
   ]
  },
  {
   "cell_type": "markdown",
   "id": "aec38a40",
   "metadata": {},
   "source": [
    "#### Test"
   ]
  },
  {
   "cell_type": "code",
   "execution_count": null,
   "id": "f23c6b16",
   "metadata": {},
   "outputs": [],
   "source": [
    "sketch = Image.open(\"Monet_Sketch_Dataset/TestA/00020.jpg\")\n",
    "monet = Image.open(\"Monet _Real_Dataset/testA/00020.jpg\")"
   ]
  },
  {
   "cell_type": "code",
   "execution_count": null,
   "id": "0fc366ae",
   "metadata": {},
   "outputs": [],
   "source": [
    "# creating a new image and pasting \n",
    "# the images\n",
    "img2 = Image.new(\"RGB\", (512, 256), \"white\")\n",
    "  \n",
    "# pasting the first image (image_name,\n",
    "# (position))\n",
    "img2.paste(sketch, (0, 0))\n",
    "  \n",
    "# pasting the second image (image_name,\n",
    "# (position))\n",
    "img2.paste(monet, (256, 0))\n",
    "  \n",
    "plt.imshow(img2)"
   ]
  },
  {
   "cell_type": "code",
   "execution_count": null,
   "id": "764f9531",
   "metadata": {},
   "outputs": [],
   "source": [
    "img2.save(\"00020.jpg\") "
   ]
  },
  {
   "cell_type": "code",
   "execution_count": null,
   "id": "bdcde54d",
   "metadata": {},
   "outputs": [],
   "source": [
    "%pwd"
   ]
  },
  {
   "cell_type": "code",
   "execution_count": 2,
   "id": "c4aabf55",
   "metadata": {},
   "outputs": [],
   "source": [
    "main_path='C:/Users/cotit/OneDrive/Documentos/Academicos/Master/Ottawa University Masters/Courses/03Fall 2022/01 Advanced Machine Learning/Project/'"
   ]
  },
  {
   "cell_type": "code",
   "execution_count": 4,
   "id": "bee57a9f",
   "metadata": {},
   "outputs": [],
   "source": [
    "# Folder Path\n",
    "path = \"Castles Dataset/real castles/sketches/train\"\n",
    "\n",
    "# Change the directory\n",
    "#os.chdir(path)\n",
    "\n",
    "for file in os.listdir():\n",
    "    sketch = Image.open(f\"{main_path}Castles Dataset/real castles/sketches/train/{file}\")\n",
    "    monet = Image.open(f\"{main_path}Castles Dataset/real castles/train/castle/{file}\")\n",
    "    \n",
    "    img2 = Image.new(\"RGB\", (512, 256), \"white\")\n",
    "    img2.paste(monet, (0, 0))\n",
    "    img2.paste(sketch, (256, 0))\n",
    "    img2.save(f'{main_path}Castles Dataset/real castles/real_castles_merged2/{file}') "
   ]
  },
  {
   "cell_type": "code",
   "execution_count": null,
   "id": "0503b290",
   "metadata": {},
   "outputs": [],
   "source": []
  },
  {
   "cell_type": "code",
   "execution_count": null,
   "id": "79cdcfa4",
   "metadata": {},
   "outputs": [],
   "source": []
  },
  {
   "cell_type": "code",
   "execution_count": 7,
   "id": "1fb69180",
   "metadata": {},
   "outputs": [
    {
     "data": {
      "text/plain": [
       "'C:\\\\Users\\\\cotit\\\\OneDrive\\\\Documentos\\\\Academicos\\\\Master\\\\Ottawa University Masters\\\\Courses\\\\03Fall 2022\\\\01 Advanced Machine Learning\\\\Project'"
      ]
     },
     "execution_count": 7,
     "metadata": {},
     "output_type": "execute_result"
    }
   ],
   "source": [
    "%pwd"
   ]
  },
  {
   "cell_type": "code",
   "execution_count": 2,
   "id": "d52dfce8",
   "metadata": {},
   "outputs": [],
   "source": [
    "main_path='C:/Users/cotit/OneDrive/Documentos/Academicos/Master/Ottawa University Masters/Courses/03Fall 2022/01 Advanced Machine Learning/Project/Castles Dataset/'"
   ]
  },
  {
   "cell_type": "code",
   "execution_count": 8,
   "id": "64f0f89d",
   "metadata": {
    "collapsed": true
   },
   "outputs": [
    {
     "ename": "FileNotFoundError",
     "evalue": "[Errno 2] No such file or directory: 'C:/Users/cotit/OneDrive/Documentos/Academicos/Master/Ottawa University Masters/Courses/03Fall 2022/01 Advanced Machine Learning/Project/Castles Dataset/cGANPredictions/cGAN real castle prediction/Trimmed and Resized/train/Castle_Train794.jpg'",
     "output_type": "error",
     "traceback": [
      "\u001b[1;31m---------------------------------------------------------------------------\u001b[0m",
      "\u001b[1;31mFileNotFoundError\u001b[0m                         Traceback (most recent call last)",
      "Input \u001b[1;32mIn [8]\u001b[0m, in \u001b[0;36m<cell line: 7>\u001b[1;34m()\u001b[0m\n\u001b[0;32m      7\u001b[0m \u001b[38;5;28;01mfor\u001b[39;00m file \u001b[38;5;129;01min\u001b[39;00m os\u001b[38;5;241m.\u001b[39mlistdir():\n\u001b[0;32m      8\u001b[0m     sketch \u001b[38;5;241m=\u001b[39m Image\u001b[38;5;241m.\u001b[39mopen(\u001b[38;5;124mf\u001b[39m\u001b[38;5;124m\"\u001b[39m\u001b[38;5;132;01m{\u001b[39;00mmain_path\u001b[38;5;132;01m}\u001b[39;00m\u001b[38;5;124mreal castles/sketches/train/\u001b[39m\u001b[38;5;132;01m{\u001b[39;00mfile\u001b[38;5;132;01m}\u001b[39;00m\u001b[38;5;124m\"\u001b[39m)\n\u001b[1;32m----> 9\u001b[0m     monet \u001b[38;5;241m=\u001b[39m \u001b[43mImage\u001b[49m\u001b[38;5;241;43m.\u001b[39;49m\u001b[43mopen\u001b[49m\u001b[43m(\u001b[49m\u001b[38;5;124;43mf\u001b[39;49m\u001b[38;5;124;43m\"\u001b[39;49m\u001b[38;5;132;43;01m{\u001b[39;49;00m\u001b[43mmain_path\u001b[49m\u001b[38;5;132;43;01m}\u001b[39;49;00m\u001b[38;5;124;43mcGANPredictions/cGAN real castle prediction/Trimmed and Resized/train/\u001b[39;49m\u001b[38;5;132;43;01m{\u001b[39;49;00m\u001b[43mfile\u001b[49m\u001b[38;5;132;43;01m}\u001b[39;49;00m\u001b[38;5;124;43m\"\u001b[39;49m\u001b[43m)\u001b[49m\n\u001b[0;32m     11\u001b[0m     img2 \u001b[38;5;241m=\u001b[39m Image\u001b[38;5;241m.\u001b[39mnew(\u001b[38;5;124m\"\u001b[39m\u001b[38;5;124mRGB\u001b[39m\u001b[38;5;124m\"\u001b[39m, (\u001b[38;5;241m512\u001b[39m, \u001b[38;5;241m256\u001b[39m), \u001b[38;5;124m\"\u001b[39m\u001b[38;5;124mwhite\u001b[39m\u001b[38;5;124m\"\u001b[39m)\n\u001b[0;32m     12\u001b[0m     img2\u001b[38;5;241m.\u001b[39mpaste(monet, (\u001b[38;5;241m0\u001b[39m, \u001b[38;5;241m0\u001b[39m))\n",
      "File \u001b[1;32mD:\\cotit\\Anaconda\\lib\\site-packages\\PIL\\Image.py:2953\u001b[0m, in \u001b[0;36mopen\u001b[1;34m(fp, mode, formats)\u001b[0m\n\u001b[0;32m   2950\u001b[0m     filename \u001b[38;5;241m=\u001b[39m fp\n\u001b[0;32m   2952\u001b[0m \u001b[38;5;28;01mif\u001b[39;00m filename:\n\u001b[1;32m-> 2953\u001b[0m     fp \u001b[38;5;241m=\u001b[39m \u001b[43mbuiltins\u001b[49m\u001b[38;5;241;43m.\u001b[39;49m\u001b[43mopen\u001b[49m\u001b[43m(\u001b[49m\u001b[43mfilename\u001b[49m\u001b[43m,\u001b[49m\u001b[43m \u001b[49m\u001b[38;5;124;43m\"\u001b[39;49m\u001b[38;5;124;43mrb\u001b[39;49m\u001b[38;5;124;43m\"\u001b[39;49m\u001b[43m)\u001b[49m\n\u001b[0;32m   2954\u001b[0m     exclusive_fp \u001b[38;5;241m=\u001b[39m \u001b[38;5;28;01mTrue\u001b[39;00m\n\u001b[0;32m   2956\u001b[0m \u001b[38;5;28;01mtry\u001b[39;00m:\n",
      "\u001b[1;31mFileNotFoundError\u001b[0m: [Errno 2] No such file or directory: 'C:/Users/cotit/OneDrive/Documentos/Academicos/Master/Ottawa University Masters/Courses/03Fall 2022/01 Advanced Machine Learning/Project/Castles Dataset/cGANPredictions/cGAN real castle prediction/Trimmed and Resized/train/Castle_Train794.jpg'"
     ]
    }
   ],
   "source": [
    "# Folder Path\n",
    "path = \"Castles Dataset/real castles/sketches/train/\"\n",
    "\n",
    "# Change the directory\n",
    "os.chdir(path)\n",
    "\n",
    "for file in os.listdir():\n",
    "    sketch = Image.open(f\"{main_path}real castles/sketches/train/{file}\")\n",
    "    monet = Image.open(f\"{main_path}cGANPredictions/cGAN real castle prediction/Trimmed and Resized/train/{file}\")\n",
    "    \n",
    "    img2 = Image.new(\"RGB\", (512, 256), \"white\")\n",
    "    img2.paste(monet, (0, 0))\n",
    "    img2.paste(sketch, (256, 0))\n",
    "    img2.save(f'{main_path}cGANPredictions/Sketch+Prediction/{file}')"
   ]
  },
  {
   "cell_type": "code",
   "execution_count": 6,
   "id": "4dc945bc",
   "metadata": {},
   "outputs": [
    {
     "data": {
      "text/plain": [
       "'/Users/rodrigoledesmagarces/Library/CloudStorage/OneDrive-Personal/Documentos/Academicos/Master/Ottawa University Masters/Courses/03Fall 2022/01 Advanced Machine Learning/Project'"
      ]
     },
     "execution_count": 6,
     "metadata": {},
     "output_type": "execute_result"
    }
   ],
   "source": [
    "%pwd"
   ]
  },
  {
   "cell_type": "markdown",
   "id": "37c5f75c",
   "metadata": {},
   "source": [
    "#### Rename files"
   ]
  },
  {
   "cell_type": "code",
   "execution_count": 4,
   "id": "8bf0c17b",
   "metadata": {
    "collapsed": true
   },
   "outputs": [
    {
     "ename": "FileNotFoundError",
     "evalue": "[Errno 2] No such file or directory: 'C:/Users/cotit/OneDrive/Documentos/Academicos/Master/Ottawa University Masters/Courses/03Fall 2022/01 Advanced Machine Learning/Project/Castles Dataset/real castles/real_castles_merged_trainTest/'",
     "output_type": "error",
     "traceback": [
      "\u001b[0;31m---------------------------------------------------------------------------\u001b[0m",
      "\u001b[0;31mFileNotFoundError\u001b[0m                         Traceback (most recent call last)",
      "\u001b[0;32m<ipython-input-4-1b659d312575>\u001b[0m in \u001b[0;36m<module>\u001b[0;34m\u001b[0m\n\u001b[1;32m      1\u001b[0m \u001b[0mpath\u001b[0m \u001b[0;34m=\u001b[0m \u001b[0;34m'C:/Users/cotit/OneDrive/Documentos/Academicos/Master/Ottawa University Masters/Courses/03Fall 2022/01 Advanced Machine Learning/Project/Castles Dataset/real castles/real_castles_merged_trainTest/'\u001b[0m\u001b[0;34m\u001b[0m\u001b[0;34m\u001b[0m\u001b[0m\n\u001b[1;32m      2\u001b[0m \u001b[0mcont\u001b[0m \u001b[0;34m=\u001b[0m \u001b[0;36m0\u001b[0m\u001b[0;34m\u001b[0m\u001b[0;34m\u001b[0m\u001b[0m\n\u001b[0;32m----> 3\u001b[0;31m \u001b[0mfiles\u001b[0m \u001b[0;34m=\u001b[0m \u001b[0mos\u001b[0m\u001b[0;34m.\u001b[0m\u001b[0mlistdir\u001b[0m\u001b[0;34m(\u001b[0m\u001b[0mpath\u001b[0m\u001b[0;34m)\u001b[0m\u001b[0;34m\u001b[0m\u001b[0;34m\u001b[0m\u001b[0m\n\u001b[0m\u001b[1;32m      4\u001b[0m \u001b[0;34m\u001b[0m\u001b[0m\n\u001b[1;32m      5\u001b[0m \u001b[0;32mfor\u001b[0m \u001b[0mi\u001b[0m \u001b[0;32min\u001b[0m \u001b[0mrange\u001b[0m\u001b[0;34m(\u001b[0m\u001b[0mlen\u001b[0m\u001b[0;34m(\u001b[0m\u001b[0mfiles\u001b[0m\u001b[0;34m)\u001b[0m\u001b[0;34m)\u001b[0m\u001b[0;34m:\u001b[0m\u001b[0;34m\u001b[0m\u001b[0;34m\u001b[0m\u001b[0m\n",
      "\u001b[0;31mFileNotFoundError\u001b[0m: [Errno 2] No such file or directory: 'C:/Users/cotit/OneDrive/Documentos/Academicos/Master/Ottawa University Masters/Courses/03Fall 2022/01 Advanced Machine Learning/Project/Castles Dataset/real castles/real_castles_merged_trainTest/'"
     ]
    }
   ],
   "source": [
    "path = 'C:/Users/cotit/OneDrive/Documentos/Academicos/Master/Ottawa University Masters/Courses/03Fall 2022/01 Advanced Machine Learning/Project/Castles Dataset/real castles/real_castles_merged_trainTest/'\n",
    "cont = 0\n",
    "files = os.listdir(path)\n",
    "\n",
    "for i in range(len(files)):\n",
    "    cont = cont+1\n",
    "    os.rename(path+files[i], f\"{path}cGAN_castle{cont}.jpg\")"
   ]
  }
 ],
 "metadata": {
  "kernelspec": {
   "display_name": "Python 3 (ipykernel)",
   "language": "python",
   "name": "python3"
  },
  "language_info": {
   "codemirror_mode": {
    "name": "ipython",
    "version": 3
   },
   "file_extension": ".py",
   "mimetype": "text/x-python",
   "name": "python",
   "nbconvert_exporter": "python",
   "pygments_lexer": "ipython3",
   "version": "3.9.12"
  }
 },
 "nbformat": 4,
 "nbformat_minor": 5
}
